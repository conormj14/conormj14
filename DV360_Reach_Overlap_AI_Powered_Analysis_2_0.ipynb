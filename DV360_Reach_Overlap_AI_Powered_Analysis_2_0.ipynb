{
  "nbformat": 4,
  "nbformat_minor": 0,
  "metadata": {
    "colab": {
      "provenance": [],
      "include_colab_link": true
    },
    "kernelspec": {
      "name": "python3",
      "display_name": "Python 3"
    },
    "language_info": {
      "name": "python"
    }
  },
  "cells": [
    {
      "cell_type": "markdown",
      "metadata": {
        "id": "view-in-github",
        "colab_type": "text"
      },
      "source": [
        "<a href=\"https://colab.research.google.com/github/conormj14/conormj14/blob/DV360_Reach_Overlap_AI_Powered_Analysis_2.0-Notebook/DV360_Reach_Overlap_AI_Powered_Analysis_2_0.ipynb\" target=\"_parent\"><img src=\"https://colab.research.google.com/assets/colab-badge.svg\" alt=\"Open In Colab\"/></a>"
      ]
    },
    {
      "cell_type": "markdown",
      "source": [
        "# **WELCOME TO THE AI POWERED DV360 Reach Overlap Analysis Notebook**"
      ],
      "metadata": {
        "id": "_D_ntr-Bbd0t"
      }
    },
    {
      "cell_type": "markdown",
      "source": [
        "# Analysis Filters"
      ],
      "metadata": {
        "id": "VS-LomRApBTJ"
      }
    },
    {
      "cell_type": "markdown",
      "source": [],
      "metadata": {
        "id": "gAeRuceUpmQ4"
      }
    },
    {
      "cell_type": "code",
      "source": [
        "CLIENT_NAME = \"\" #@param {type:\"string\"}\n",
        "YOUR_NAME = '' #@param {type:\"string\"}\n",
        "RECEIVER_NAME = '' #@param {type:\"string\"}\n",
        "GOOGLE_SHEET_NAME = \"\"  #@param {type:\"string\"}\n",
        "INCLUDE_ROWS_CONTAINING = ''  #@param {type:\"string\"}\n",
        "INCLUDE_COLS_CONTAINING = ''  #@param {type:\"string\"}\n",
        "EXCLUDE_ROWS_CONTAINING = '' #@param {type:\"string\"}\n",
        "EXCLUDE_COLS_CONTAINING = '' #@param {type:\"string\"}\n",
        "#set the below filter to Insertion Order or Advertiser\n",
        "COMPARISON_DIMENSION = 'Insertion Order' # @param [\"Insertion Order\", \"Advertiser\"]\n",
        "BAR_CHARTS_WIDTH_IN_PIXELS = 1800 #@param {type:\"integer\"}\n",
        "BAR_CHARTS_HEIGHT_IN_PIXELS  = 1000 #@param {type:\"integer\"}\n",
        "ALL_IOs_HEATMAP_SIZE = 'Small' # @param [\"Small\", \"Medium\", \"Large\"]\n",
        "FILTERED_IOS_HEATMAP_SIZE = 'Small' # @param [\"Small\", \"Medium\", \"Large\"]\n",
        "VENN_DIAGRAM_IO_ONE = \"\" #@param {type:\"string\"}\n",
        "VENN_DIAGRAM_IO_TWO = \"\" #@param {type:\"string\"}"
      ],
      "metadata": {
        "id": "nit2mkUwqTy9",
        "cellView": "form"
      },
      "execution_count": null,
      "outputs": []
    },
    {
      "cell_type": "markdown",
      "source": [
        "## Interactive Trix & Packages"
      ],
      "metadata": {
        "id": "MWU37oO-OxPI"
      }
    },
    {
      "cell_type": "code",
      "execution_count": null,
      "metadata": {
        "id": "FQYPOmXrSlPm",
        "cellView": "form"
      },
      "outputs": [],
      "source": [
        "# @title\n",
        "#importing pandas\n",
        "#importing sheets package from the colab library and defining your sheet\n",
        "#make sure to edit the name of the google_sheet_name variable below and that the sheet generates correctly below\n",
        "from google.colab import auth\n",
        "auth.authenticate_user()\n",
        "import pandas as pd\n",
        "import seaborn as sns\n",
        "import matplotlib.pyplot as plt\n",
        "from google.colab import sheets\n",
        "from datetime import datetime\n",
        "from IPython.display import display, Markdown\n",
        "import numpy as np\n",
        "\n",
        "\n",
        "current_date = datetime.now()\n",
        "formatted_date = current_date.strftime(\"%d/%m/%y\")\n",
        "#change the value of this variable to be the exact name of your downloaded report in sheets\n",
        "google_sheet_name = GOOGLE_SHEET_NAME\n",
        "\n",
        "sheet = sheets.InteractiveSheet(title=google_sheet_name)\n",
        "sheet\n"
      ]
    },
    {
      "cell_type": "markdown",
      "source": [
        "## Dataframe & Helper Functions"
      ],
      "metadata": {
        "id": "_KBGlN8y16GO"
      }
    },
    {
      "cell_type": "code",
      "source": [
        "# @title\n",
        "#converting sheet object to a pandas dataframe\n",
        "df = sheet.as_df()\n",
        "\n",
        "#print(df.columns)\n",
        "\n",
        "def set_dtypes(df):\n",
        "  dimension_cols = ['Partner', 'Partner ID', 'Country', 'Advertiser', 'Advertiser ID', 'Insertion Order', 'Insertion Order ID']\n",
        "  for col in df.columns:\n",
        "    if col not in dimension_cols:\n",
        "      #print(df[col])\n",
        "      df[col] = pd.to_numeric(df[col], errors='coerce')\n",
        "      df[col] = df[col].replace('-', 0) # Changed to 0 for numeric columns\n",
        "  return df\n",
        "\n",
        "\n",
        "def overlap_col_cleaner(df):\n",
        "  '''Docstring: This function takes in a Dataframe truncates the irrelevant parts of the column names and then replaces any hyphenated values where no reach overlap was observed to a 0.0 float data type. Ouput: Dataframe'''\n",
        "  new_col_list = []\n",
        "\n",
        "  for col in df.columns:\n",
        "    col = col.split(':')[0]\n",
        "    new_col_list.append(col)\n",
        "\n",
        "  df.columns = new_col_list\n",
        "\n",
        "  df = df.apply(lambda x: pd.to_numeric(x.astype(str).str.replace('-', '0.0', regex=False), errors='coerce'))\n",
        "\n",
        "  return df\n",
        "\n",
        "#defining a function to filter insertion order names for a given input string so that users can focus the analysis on one part of a clients activity based on their naming conventions\n",
        "\n",
        "\n",
        "def filter_io_rows(df, row_filter, rows_to_exclude=None):\n",
        "    if row_filter == '':\n",
        "        filtered_df = df\n",
        "    else:\n",
        "        mask = df.index.str.contains(row_filter)\n",
        "        filtered_df = df[mask]\n",
        "\n",
        "    if rows_to_exclude:\n",
        "        exclude_mask = filtered_df.index.str.contains(rows_to_exclude)\n",
        "        filtered_df = filtered_df[~exclude_mask]\n",
        "\n",
        "    return filtered_df\n",
        "\n",
        "\n",
        "def filter_io_cols(df, col_filter, cols_to_exclude=None):\n",
        "\n",
        "  if col_filter == '':\n",
        "        filtered_df = df\n",
        "\n",
        "  elif col_filter:\n",
        "    filtered_df = df.filter(like=col_filter)\n",
        "\n",
        "  if cols_to_exclude:\n",
        "    cols = [col for col in filtered_df.columns if cols_to_exclude not in col]\n",
        "    filtered_df = filtered_df[cols]\n",
        "\n",
        "  return filtered_df\n",
        "\n",
        "def clean_dataframe(df, metadata_identifier=\"Report Time:\"):\n",
        "  \"\"\"\n",
        "  Cleans the dataframe by dropping rows containing report metadata.\n",
        "\n",
        "  Args:\n",
        "    df: The input pandas DataFrame.\n",
        "    metadata_identifier: A string that identifies the start of\n",
        "                         metadata rows. Defaults to \"Report Time:\".\n",
        "\n",
        "  Returns:\n",
        "    A cleaned pandas DataFrame with report metadata rows removed.\n",
        "  \"\"\"\n",
        "  # Drop columns with empty string as name\n",
        "  df = df.drop(columns=[''], errors='ignore')\n",
        "\n",
        "  # Find the index of the row containing the metadata identifier\n",
        "  metadata_index = df[df.iloc[:, 0].astype(str) == metadata_identifier].index[0]\n",
        "\n",
        "  # Drop rows starting from the metadata index\n",
        "  cleaned_df = df.drop(df.index[metadata_index:])\n",
        "\n",
        "  # Replace empty strings with NaN\n",
        "  cleaned_df = cleaned_df.replace('', np.nan)\n",
        "\n",
        "  # Drop rows with all NaN values\n",
        "  cleaned_df = cleaned_df.dropna(how='all')\n",
        "\n",
        "  return cleaned_df\n",
        "\n",
        "\n",
        "\n",
        "\n",
        "# Apply the function to your DataFrame\n",
        "if (df['Partner']=='Report Time:').any():\n",
        " df = clean_dataframe(df, metadata_identifier=\"Report Time:\")\n",
        "else:\n",
        "  pass\n",
        "\n",
        "\n",
        "#cleaning df by making sure every column has the right dtypes\n",
        "\n",
        "df = set_dtypes(df)\n",
        "\n",
        "df = df.fillna(0)\n",
        "\n",
        "df.head()"
      ],
      "metadata": {
        "id": "c86U5X5wmeR1",
        "cellView": "form"
      },
      "execution_count": null,
      "outputs": []
    },
    {
      "cell_type": "markdown",
      "source": [
        "####Model Configuration"
      ],
      "metadata": {
        "id": "6OohiFX5KsVw"
      }
    },
    {
      "cell_type": "code",
      "source": [
        "# @title\n",
        "from google import genai\n",
        "#import pandas as pd\n",
        "from google.genai import types\n",
        "\n",
        "from google.colab import userdata\n",
        "#creds = userdata.get('GOOGLE_API_KEY')\n",
        "creds = '' #Once you have generated your Gemini API at https://aistudio-preprod.corp.google.com/app/apikey -> \"Create API Key\", paste this as a string value to the creds variable on this line.\n",
        "\n",
        "\n",
        "client = genai.Client(api_key=creds)\n",
        "\n",
        "sys_instruct = f\"\"\"You are a highly experienced DV360 Specialist. You specialize in crafting and optimizing programmatic advertising strategies that directly drive incremental sales. You have a deep understanding of the digital advertising landscape.\n",
        "\n",
        "Expertise: Advanced knowledge of programmatic advertising, DV360 platform, audience targeting, campaign optimization, and data analysis. Proven ability to drive incremental sales and demonstrate ROI.\n",
        "\n",
        "Keep in mind when preparing insights that reach cannot be summed.  High Overlap (Duplicate Reach) is good for building frequency, whereas low overlap (Exclusive Reach) is good for building reach.\n",
        "\n",
        "Be assertive and confident but approachable and conversational. Use clear, concise language. Aim for a tone that conveys authority and trustworthiness.  Write succinctly and condense paragraphs avoiding jargon or overly formal language.\n",
        "\n",
        "Ensure output includes:\n",
        "\n",
        "- A brief introduction that summarizes purpose.\n",
        "- A bullet-point list of key findings or recommendations.\n",
        "\n",
        "\n",
        "\n",
        "When prompt starts with \"--\" please refine the text provided using the above information.\"\"\"\n"
      ],
      "metadata": {
        "id": "ErAc-3k5KRuB",
        "cellView": "form"
      },
      "execution_count": null,
      "outputs": []
    },
    {
      "cell_type": "markdown",
      "source": [
        "Reach Overlap Venn Diagram (IO_1 vs IO_2)"
      ],
      "metadata": {
        "id": "Xpg9aKlVvFP9"
      }
    },
    {
      "cell_type": "code",
      "source": [
        "# @title\n",
        "if VENN_DIAGRAM_IO_ONE != '' and VENN_DIAGRAM_IO_TWO != '':\n",
        "  io_1 = VENN_DIAGRAM_IO_ONE\n",
        "  io_2 = VENN_DIAGRAM_IO_TWO\n",
        "\n",
        "  try:\n",
        "    vd_metrics_df = df[df['Insertion Order'].isin([io_1, io_2])][['Insertion Order','Unique Reach: Duplicate Total Reach', 'Unique Reach: Exclusive Total Reach', io_1 + ': Unique Reach: Overlap Total Reach', io_2 + ': Unique Reach: Overlap Total Reach']]\n",
        "    vd_metrics_df['Unique Reach'] = vd_metrics_df['Unique Reach: Duplicate Total Reach'] + vd_metrics_df['Unique Reach: Exclusive Total Reach']\n",
        "    vd_metrics_df = vd_metrics_df.rename(columns={'Unique Reach: Duplicate Total Reach': 'Duplicate Total Reach', 'Unique Reach: Exclusive Total Reach': 'Exclusive Total Reach', io_1 + ': Unique Reach: Overlap Total Reach': io_1 + ': Overlap Reach',io_2 + ': Unique Reach: Overlap Total Reach':  io_2 + ': Overlap Reach' })\n",
        "    vd_metrics_df = vd_metrics_df.drop(columns=['Duplicate Total Reach', 'Exclusive Total Reach'])\n",
        "\n",
        "    io_1_df = vd_metrics_df[vd_metrics_df['Insertion Order'] == io_1]\n",
        "    io_2_df = vd_metrics_df[vd_metrics_df['Insertion Order'] == io_2]\n",
        "\n",
        "    from matplotlib_venn import venn2\n",
        "    import matplotlib.pyplot as plt\n",
        "\n",
        "    plt.figure(figsize=(15,15))\n",
        "\n",
        "    set_a = io_1_df['Unique Reach'].sum()\n",
        "    set_b = io_2_df['Unique Reach'].sum()\n",
        "    set_c = io_1_df[io_2 + ': Overlap Reach'].sum()\n",
        "\n",
        "    v = venn2(subsets=(set_a,set_b,set_c), set_labels=(io_1+' Unique Reach',io_2+' Unique Reach', 'Reach Overlap'))\n",
        "\n",
        "    # Customize labels\n",
        "    for text in v.set_labels:\n",
        "        text.set_fontsize(12)\n",
        "    #these are the numbers in the circles\n",
        "    for text in v.subset_labels:\n",
        "        if text:\n",
        "            text.set_fontsize(14)\n",
        "\n",
        "\n",
        "    plt.title('Reach Overlap Venn Diagram (Unique Users)')\n",
        "    plt.show()\n",
        "\n",
        "  except KeyError as e:\n",
        "    #handling key errors that may arise from the fact that the venn diagram filter input cannot be found in the sheet\n",
        "    print(\"Could not find the value(s) of VENN_DIAGRAM_IO_ONE and/or VENN_DIAGRAM_IO_TWO filters within the google sheet. Please ensure these values exactly match (case sensitive) what is in your 'Insertion Order' or 'Advertiser' column of your sheet before re-running.\")\n",
        "    print(\"You can also run the cells below if you wish to skip this part of the analysis or simply leave the venn diagram filters blank and run all cells again\")\n",
        "    print(f\"Invalid input. Details: {e}\")\n",
        "\n"
      ],
      "metadata": {
        "id": "mheIWsHNuarF",
        "cellView": "form"
      },
      "execution_count": null,
      "outputs": []
    },
    {
      "cell_type": "markdown",
      "source": [
        "## Venn Diagram Gemini AI Insights"
      ],
      "metadata": {
        "id": "h9YCrOHcxDYB"
      }
    },
    {
      "cell_type": "code",
      "source": [
        "# @title\n",
        "\n",
        "try:\n",
        "  if VENN_DIAGRAM_IO_ONE != '' and VENN_DIAGRAM_IO_TWO != '':\n",
        "    csv_data = vd_metrics_df.to_csv(index=False)\n",
        "\n",
        "    prompt = f\"\"\"\n",
        "    Analyze the following DV360 reach overlap data:\n",
        "    {csv_data}\n",
        "\n",
        "    There are three sets as defined by the following code:\n",
        "\n",
        "    io_1_df = vd_metrics_df[vd_metrics_df['Insertion Order'] == io_1]\n",
        "    io_2_df = vd_metrics_df[vd_metrics_df['Insertion Order'] == io_2]\n",
        "\n",
        "    set_a = io_1_df['Unique Reach'].sum()\n",
        "    set_b = io_2_df['Unique Reach'].sum()\n",
        "    set_c = io_1_df[io_2 + ' Overlap Total Reach'].sum()\n",
        "\n",
        "    v = venn2(subsets=(set_a,set_b,set_c), set_labels=(io_1+' Unique Reach',io_2+' Unique Reach', 'Reach Overlap'))\n",
        "\n",
        "    Note that you cannot just add the unique reach values of each set. Write concise insights into this data.\n",
        "\n",
        "    \"\"\"\n",
        "\n",
        "    response = client.models.generate_content(\n",
        "      model=\"gemini-2.0-flash\",\n",
        "      config=types.GenerateContentConfig(\n",
        "          system_instruction=sys_instruct),\n",
        "      contents=prompt)\n",
        "\n",
        "    #response = model.generate_content(prompt)\n",
        "    vd_insights = response.text\n",
        "    print(vd_insights)\n",
        "except NameError as e:\n",
        "  print('Cannot find data for venn diagram comparison. Please check the data for the two insertion orders you wish to compare is in your sheet and that the names of these are exactly matching in the notebook venn diagram filters')\n",
        "  print(f\"Invalid input. Details: {e}\")"
      ],
      "metadata": {
        "id": "N34Go1tTv10R",
        "cellView": "form"
      },
      "execution_count": null,
      "outputs": []
    },
    {
      "cell_type": "markdown",
      "source": [
        "### Underlying Venn Diagram Data\n"
      ],
      "metadata": {
        "id": "s136OUkPzziR"
      }
    },
    {
      "cell_type": "code",
      "source": [
        "# @title\n",
        "\n",
        "try:\n",
        "  overlap_heatmap_df = df.set_index(COMPARISON_DIMENSION)\\\n",
        "  .filter(like='Percent', axis=1)\n",
        "\n",
        "  exclusive_reach_df = df.set_index(COMPARISON_DIMENSION)\\\n",
        "  .filter(like='Exclusive', axis=1)\n",
        "\n",
        "  duplicate_reach_df = df.set_index(COMPARISON_DIMENSION)\\\n",
        "  .filter(like='Duplicate', axis=1)\n",
        "\n",
        "  if VENN_DIAGRAM_IO_ONE != '' and VENN_DIAGRAM_IO_TWO != '':\n",
        "    display(vd_metrics_df)\n",
        "except KeyError as e:\n",
        "    #handling key errors that may arise from missing 'Insertion Order' or 'Advertiser' errors\n",
        "    print('Could not find the Insertion Order and/or Advertiser columns in your sheets')\n",
        "    print(f\"Invalid input. Details: {e}\")\n",
        "\n",
        "\n"
      ],
      "metadata": {
        "cellView": "form",
        "id": "vTART-UBzj0Y"
      },
      "execution_count": null,
      "outputs": []
    },
    {
      "cell_type": "markdown",
      "source": [],
      "metadata": {
        "id": "6tjOt6O27I5c"
      }
    },
    {
      "cell_type": "markdown",
      "source": [
        "#Exclusive Reach"
      ],
      "metadata": {
        "id": "fM2cHFG3w9rC"
      }
    },
    {
      "cell_type": "code",
      "source": [
        "# @title\n",
        "import plotly.express as px\n",
        "\n",
        "try:\n",
        "  #Create the bar plot\n",
        "  fig = px.bar(df, x=COMPARISON_DIMENSION, y='Unique Reach: Exclusive Total Reach', color='Unique Reach: Exclusive Total Reach', title=COMPARISON_DIMENSION + ' Exclusive Reach', width=BAR_CHARTS_WIDTH_IN_PIXELS, height=BAR_CHARTS_HEIGHT_IN_PIXELS, color_continuous_scale='darkmint')\n",
        "  fig.show()\n",
        "except ValueError as e:\n",
        "    #handling key errors that may arise from missing 'Insertion Order' or 'Advertiser' errors\n",
        "    print('Could not find the Insertion Order and/or Advertiser values within those columns in your sheets')\n",
        "    print(f\"Invalid input. Details: {e}\")"
      ],
      "metadata": {
        "cellView": "form",
        "id": "rlu0M-pZt3wq"
      },
      "execution_count": null,
      "outputs": []
    },
    {
      "cell_type": "markdown",
      "source": [
        "##Gemini AI Exclusive Reach Insights"
      ],
      "metadata": {
        "id": "nIkXiOZsz-EC"
      }
    },
    {
      "cell_type": "code",
      "source": [
        "# @title\n",
        "\n",
        "try:\n",
        "  ri_exclusive_reach_df = exclusive_reach_df.reset_index(names='Insertion Order')\n",
        "\n",
        "  csv_data = ri_exclusive_reach_df.to_csv(index=False)\n",
        "\n",
        "  prompt = f\"\"\"\n",
        "  Analyze the following DV360 exclusive reach data:\n",
        "  {csv_data}\n",
        "\n",
        "  Each of the numerical data in the cells of this csv is representing the exclusive reach that an advertising buy resulted in.\n",
        "\n",
        "  Higher exclusive reach values can be good if an advertiser wants to increase their overall unique reach.\n",
        "\n",
        "  Write some insights into this data and give suggestions on budget optimisation based on the level of exclusive reach between insertion orders.\n",
        "\n",
        "  \"\"\"\n",
        "\n",
        "  response = client.models.generate_content(\n",
        "      model=\"gemini-2.0-flash\",\n",
        "    config=types.GenerateContentConfig(\n",
        "          system_instruction=sys_instruct),\n",
        "      contents=prompt)\n",
        "\n",
        "\n",
        "  exc_reach_insights = response.text\n",
        "  print(exc_reach_insights)\n",
        "except NameError as e:\n",
        "  print('Cannot find Unique Reach: Exclusive Reach data within your sheet')\n",
        "  print(f\"Invalid input. Details: {e}\")"
      ],
      "metadata": {
        "id": "K1yEpWlxxkgQ",
        "cellView": "form"
      },
      "execution_count": null,
      "outputs": []
    },
    {
      "cell_type": "markdown",
      "source": [
        "#Duplicate Reach"
      ],
      "metadata": {
        "id": "ufEA3ySixP7k"
      }
    },
    {
      "cell_type": "code",
      "source": [
        "# @title\n",
        "#Create the bar plot\n",
        "\n",
        "try:\n",
        "  fig = px.bar(df, x=COMPARISON_DIMENSION, y='Unique Reach: Duplicate Total Reach', color='Unique Reach: Duplicate Total Reach', title=COMPARISON_DIMENSION + ' Duplicate Reach', width=BAR_CHARTS_WIDTH_IN_PIXELS, height=BAR_CHARTS_HEIGHT_IN_PIXELS,  color_continuous_scale='darkmint')\n",
        "  fig.show()\n",
        "except ValueError as e:\n",
        "    #handling key errors that may arise from missing 'Insertion Order' or 'Advertiser' errors\n",
        "    print('Could not find the Insertion Order and/or Advertiser values within those columns in your sheets')\n",
        "    print(f\"Invalid input. Details: {e}\")"
      ],
      "metadata": {
        "cellView": "form",
        "id": "xae6bxTTvVnr"
      },
      "execution_count": null,
      "outputs": []
    },
    {
      "cell_type": "markdown",
      "source": [
        "##Gemini AI Duplicate Reach Insights\n"
      ],
      "metadata": {
        "id": "rJdREO5-z02T"
      }
    },
    {
      "cell_type": "code",
      "source": [
        "# @title\n",
        "\n",
        "try:\n",
        "  ri_duplicate_reach_df = duplicate_reach_df.reset_index(names='Insertion Order')\n",
        "  csv_data = ri_duplicate_reach_df.to_csv(index=False)\n",
        "\n",
        "  prompt = f\"\"\"\n",
        "  Analyze the following DV360 duplicate reach data:\n",
        "  {csv_data}\n",
        "\n",
        "  Each of the numerical data in the cells of this csv is representing the duplicate reach that an advertising buy resulted in.\n",
        "\n",
        "  Higher duplicate reach values can be good if an advertiser wants to increase their ad frequency but lower duplicate reach values are better for increasing overall advertising reach.\n",
        "\n",
        "  Write some insights into this data and give suggestions on budget optimisation based on the level of duplicate reach between insertion orders.\n",
        "\n",
        "  \"\"\"\n",
        "\n",
        "  '''response = client.models.generate_content(\n",
        "      model=\"gemini-2.0-flash\",\n",
        "      config=types.GenerateContentConfig(\n",
        "          system_instruction=\"You are a DV360 marketing analyst at Google\"),\n",
        "      contents=prompt)'''\n",
        "\n",
        "  response = client.models.generate_content(\n",
        "      model=\"gemini-2.0-flash\",\n",
        "      config=types.GenerateContentConfig(\n",
        "          system_instruction=sys_instruct),\n",
        "      contents=prompt)\n",
        "\n",
        "  dup_reach_insights = response.text\n",
        "  print(dup_reach_insights)\n",
        "except NameError as e:\n",
        "  print('Cannot find Unique Reach: Duplicate Reach data within your sheet')\n",
        "  print(f\"Invalid input. Details: {e}\")"
      ],
      "metadata": {
        "id": "AQKb_9nay6E7",
        "cellView": "form"
      },
      "execution_count": null,
      "outputs": []
    },
    {
      "cell_type": "markdown",
      "source": [
        "# **DV360 Reach Overlap Heatmap** 👐\n",
        "\n",
        "---\n",
        "\n"
      ],
      "metadata": {
        "id": "YT5bzC8-hVmt"
      }
    },
    {
      "cell_type": "markdown",
      "source": [
        "## All Insertion Orders Heatmap"
      ],
      "metadata": {
        "id": "OWfNESGGoR3k"
      }
    },
    {
      "cell_type": "code",
      "source": [
        "# @title\n",
        "\n",
        "try:\n",
        "  cleaned_df = overlap_col_cleaner(overlap_heatmap_df)\n",
        "\n",
        "  #control flow for figure size\n",
        "  if ALL_IOs_HEATMAP_SIZE == 'Small':\n",
        "    plt.figure(figsize=(10, 5))\n",
        "  elif ALL_IOs_HEATMAP_SIZE == 'Medium':\n",
        "    plt.figure(figsize=(20, 10))\n",
        "  else:\n",
        "    plt.figure(figsize=(30, 20))\n",
        "\n",
        "  #generate the heatmap, adjust the figsize parameters below to alter the output e.g plt.figure(figsize=(10, 5)) will generate a heatmap with width 10 inches and height 5 inches\n",
        "  #plt.figure(figsize=(30,30))\n",
        "  sns.heatmap(cleaned_df, cmap=\"Greens\", annot=True, fmt=\".0%\")\n",
        "  plt.title(\"DV360 Reach Overlap Heatmap\\n\")\n",
        "  plt.xlabel(COMPARISON_DIMENSION)\n",
        "  plt.ylabel(COMPARISON_DIMENSION)\n",
        "\n",
        "  #Screenshot the below visualisation into your deck\n",
        "  plt.show()\n",
        "except NameError as e:\n",
        "    #handling key errors that may arise from missing 'Insertion Order' or 'Advertiser' errors\n",
        "    print('Could not find the Reach Overlap % data within your sheet')\n",
        "    print(f\"Invalid input. Details: {e}\")"
      ],
      "metadata": {
        "id": "TOOaP5sgoOY8",
        "cellView": "form"
      },
      "execution_count": null,
      "outputs": []
    },
    {
      "cell_type": "markdown",
      "source": [
        "## Filtered Insertion Orders Heatmap"
      ],
      "metadata": {
        "id": "ZW7VLR88oYgj"
      }
    },
    {
      "cell_type": "code",
      "source": [
        "# @title\n",
        "try:\n",
        "  cleaned_df = filter_io_rows(cleaned_df, INCLUDE_ROWS_CONTAINING, EXCLUDE_ROWS_CONTAINING)\n",
        "  cleaned_df = filter_io_cols(cleaned_df, INCLUDE_COLS_CONTAINING, EXCLUDE_COLS_CONTAINING)\n",
        "\n",
        "  #control flow for figure size\n",
        "  if FILTERED_IOS_HEATMAP_SIZE == 'Small':\n",
        "    plt.figure(figsize=(10, 5))\n",
        "  elif FILTERED_IOS_HEATMAP_SIZE == 'Medium':\n",
        "    plt.figure(figsize=(20, 10))\n",
        "  else:\n",
        "    plt.figure(figsize=(30, 20))\n",
        "\n",
        "  #generate the heatmap, adjust the figsize parameters below to alter the output e.g plt.figure(figsize=(10, 5)) will generate a heatmap with width 10 inches and height 5 inches\n",
        "  #plt.figure(figsize=(20,10))\n",
        "  sns.heatmap(cleaned_df, cmap=\"Greens\", annot=True, fmt=\".0%\")\n",
        "  plt.title(\"DV360 Reach Overlap Heatmap\\n\")\n",
        "  plt.xlabel(COMPARISON_DIMENSION)\n",
        "  plt.ylabel(COMPARISON_DIMENSION)\n",
        "\n",
        "  #Screenshot the below visualisation into your deck\n",
        "  plt.show()\n",
        "except NameError as e:\n",
        "  print('Cannot find Reach Overlap % data within your sheet')\n",
        "  print(f\"Invalid input. Details: {e}\")\n"
      ],
      "metadata": {
        "id": "ZytRaolOM23r",
        "cellView": "form"
      },
      "execution_count": null,
      "outputs": []
    },
    {
      "cell_type": "markdown",
      "source": [
        "##Gemini AI Reach Overlap Percentage Insights\n",
        "\n",
        "\n",
        "\n"
      ],
      "metadata": {
        "id": "eIcGolkK1jZz"
      }
    },
    {
      "cell_type": "code",
      "source": [
        "# @title\n",
        "\n",
        "try:\n",
        "  '''# @title\n",
        "  import google.generativeai as genai\n",
        "  import pandas as pd\n",
        "\n",
        "  from google.colab import userdata\n",
        "  creds = userdata.get('GOOGLE_API_KEY')\n",
        "\n",
        "  genai.configure(api_key=creds)\n",
        "\n",
        "  model = genai.GenerativeModel('gemini-pro')'''\n",
        "\n",
        "  #data = {'col1': [1, 2, 3, 4, 5], 'col2': ['a', 'b', 'c', 'd', 'e']}\n",
        "  reach_overlap_df = cleaned_df.reset_index(names='Insertion Order')\n",
        "\n",
        "  csv_data = reach_overlap_df.to_csv(index=False)\n",
        "\n",
        "  prompt = f\"\"\"\n",
        "  Analyze the following DV360 reach overlap data:\n",
        "  {csv_data}\n",
        "\n",
        "  Each of the numerical data in the cells of this csv is representing percentage values of users that overlap from that insertion order with the column.\n",
        "\n",
        "  Lower reach overlap percentages can be good if an advertiser wants to increase their overall unique reach whereas higher reach overlap percentages can be good if an advertiser wants to increase their average frequency.\n",
        "\n",
        "  Insights are most helpful when relevant to common values in the Insertion order names. Write some insights into this data and give suggestions on budget optimisation based on the level of reach overlap between insertion orders.\n",
        "\n",
        "  \"\"\"\n",
        "\n",
        "  response = client.models.generate_content(\n",
        "      model=\"gemini-2.0-flash\",\n",
        "      config=types.GenerateContentConfig(\n",
        "          system_instruction=sys_instruct),\n",
        "      contents=prompt)\n",
        "\n",
        "  reach_overlap_insights = response.text\n",
        "  print(reach_overlap_insights)\n",
        "except NameError as e:\n",
        "  print('Cannot not construct the reach overlap dataframe from the data within your sheet and could therefore not send the Gemini API anything')\n",
        "  print(f\"Invalid input. Details: {e}\")"
      ],
      "metadata": {
        "id": "GtLI0baeZJ4r",
        "cellView": "form"
      },
      "execution_count": null,
      "outputs": []
    },
    {
      "cell_type": "markdown",
      "source": [
        "# Email Report"
      ],
      "metadata": {
        "id": "E2tKbiWfcxxi"
      }
    },
    {
      "cell_type": "code",
      "source": [
        "# @title\n",
        "\n",
        "try:\n",
        "  if VENN_DIAGRAM_IO_ONE != '' and VENN_DIAGRAM_IO_TWO != '':\n",
        "    io_1 = VENN_DIAGRAM_IO_ONE\n",
        "    io_2 = VENN_DIAGRAM_IO_TWO\n",
        "\n",
        "    markdown_email = f\"\"\"\n",
        "    ##DV360 Reach Overlap Analysis: {CLIENT_NAME} - {formatted_date}\n",
        "\n",
        "    Hi {RECEIVER_NAME},\n",
        "\n",
        "    Please find below a summary of the DV360 reach overlap analysis conducted for your campaigns. This analysis aims to provide insights into the reach and frequency of your campaigns, and to identify potential optimization opportunities.\n",
        "\n",
        "    ###1. Venn Diagram Analysis (If Applicable)\n",
        "\n",
        "    **Insert Venn Diagram visual here**\n",
        "\n",
        "\n",
        "    {vd_insights}\n",
        "\n",
        "    ###2. Exclusive Reach Analysis\n",
        "\n",
        "    **Insert Exclusive Reach visual here**\n",
        "\n",
        "\n",
        "    {exc_reach_insights}\n",
        "\n",
        "    ###3. Duplicate Reach Analysis\n",
        "\n",
        "    **Insert Duplicate Reach visual here**\n",
        "\n",
        "\n",
        "    {dup_reach_insights}\n",
        "\n",
        "    ###4. Reach Overlap Percentage Analysis\n",
        "\n",
        "    **Insert Heatmap visual(s) here**\n",
        "\n",
        "\n",
        "    {reach_overlap_insights}\n",
        "\n",
        "    Let me know if you have any questions on the above,\n",
        "\n",
        "    Thanks,\n",
        "\n",
        "    {YOUR_NAME}\n",
        "\n",
        "    \"\"\"\n",
        "    display(Markdown(markdown_email))\n",
        "\n",
        "  else:\n",
        "    markdown_email = f\"\"\"\n",
        "    ## DV360 Reach Overlap Analysis: {CLIENT_NAME} - {formatted_date}\n",
        "\n",
        "    Hi {RECEIVER_NAME},\n",
        "\n",
        "    Please find below a summary of the DV360 reach overlap analysis conducted for your campaigns. This analysis aims to provide insights into the reach and frequency of your campaigns, and to identify potential optimization opportunities.\n",
        "\n",
        "\n",
        "    ### 1. Exclusive Reach Analysis\n",
        "\n",
        "    **Insert Exclusive Reach visual here**\n",
        "\n",
        "\n",
        "    {exc_reach_insights}\n",
        "\n",
        "    ### 2. Duplicate Reach Analysis\n",
        "\n",
        "    **Insert Duplicate Reach visual here**\n",
        "\n",
        "\n",
        "    {dup_reach_insights}\n",
        "\n",
        "    ### 3. Reach Overlap Percentage Analysis\n",
        "\n",
        "    **Insert Heatmap visual(s) here**\n",
        "\n",
        "\n",
        "    {reach_overlap_insights}\n",
        "\n",
        "    Let me know if you have any questions on the above,\n",
        "\n",
        "    Thanks,\n",
        "\n",
        "    {YOUR_NAME}\n",
        "\n",
        "    \"\"\"\n",
        "    display(Markdown(markdown_email))\n",
        "except NameError as e:\n",
        "  print('Cannot find one or more of the AI insights')\n",
        "  print(f\"Invalid input. Details: {e}\")\n"
      ],
      "metadata": {
        "cellView": "form",
        "id": "RqPpXu2Kcwpg"
      },
      "execution_count": null,
      "outputs": []
    },
    {
      "cell_type": "markdown",
      "source": [
        "TIP: You can use Gemini AI to summarise this report further in Gmail, Docs or Gemini itself if it is too verbose. Don't forget to paste over the visualisations\n"
      ],
      "metadata": {
        "id": "uuhp605GPbU3"
      }
    }
  ]
}